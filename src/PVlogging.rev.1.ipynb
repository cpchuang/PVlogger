{
 "cells": [
  {
   "cell_type": "code",
   "execution_count": 1,
   "id": "e4ed6692-0fb8-4d86-abb6-8bd6a9b43833",
   "metadata": {},
   "outputs": [
    {
     "name": "stdout",
     "output_type": "stream",
     "text": [
      "https://ops.aps.anl.gov/cgi-bin/oagMonitorDataReview.cgi?DataGroup=1ID&1ID_ControlReadbackName=18&ExportCSV=Export+Data+(CSV)&StartYear=2022&StartMonth=10&StartDay=11&StartHour=0&EndYear=2022&EndMonth=10&EndDay=11&EndHour=24&Size=mpng&Background=onwhite&LabelSize=0.03&Sparsing=1\n"
     ]
    }
   ],
   "source": [
    "# TODO: \n",
    "#    1. get address link directly without using loggerWebAPI.tcl\n",
    "#    2. use SDDI format instead of csv\n",
    "\n",
    "import urllib.request, subprocess\n",
    "import numpy as np\n",
    "\n",
    "# this is to get web-page link\n",
    "# \"loggerWebAPI.tcl\" can be downloaded from the link below\n",
    "# https://ops.aps.anl.gov/downloads/loggerWebAPI.tcl\n",
    "\n",
    "#address = subprocess.getoutput('tclsh loggerWebAPI.tcl -printAPI exportCSV junk.csv 9/29/2022 10/10/2022 6ID ID:6:tc32:TC32:Ti0 ID:6:tc32:TC32:Ti2 ID:6:tc32:TC32:Ti4 ID:6:tc32:TC32:Ti8')\n",
    "address = subprocess.getoutput('tclsh loggerWebAPI.tcl -printAPI exportCSV junk.csv 10/11/2022 10/11/2022 1ID S:SRcurrentAI')\n",
    "#address = subprocess.getoutput('tclsh loggerWebAPI.tcl -printAPI exportCSV junk.csv 10/11/2022 10/11/2022 1ID ID01DSEnergy')\n",
    "#address = subprocess.getoutput('tclsh loggerWebAPI.tcl -printAPI exportCSV junk.csv 10/11/2022 10/11/2022 1ID BL01:SRID:HPosition BL01:SRID:VPosition')\n",
    "\n",
    "print(address)\n",
    "\n",
    "# get the csv file from web page\n",
    "# this part of code is modified from here https://stackoverflow.com/questions/16283799/how-to-read-a-csv-file-from-a-url-with-python/62614979#62614979\n",
    "response = urllib.request.urlopen(address)\n",
    "lines = [l.decode('utf-8') for l in response.readlines()]\n",
    "\n",
    "# header\n",
    "header = lines[2].rstrip().split(',')\n",
    "\n",
    "# read data\n",
    "arr=np.array([])\n",
    "for i in range(3,len(lines)):\n",
    "    da_=lines[i].rstrip().split(',')\n",
    "    if not da_[0]=='':   # skip empty line\n",
    "        arr = np.append(arr, np.array(da_).astype('float'))\n",
    "\n",
    "# reshape array, now we have the data\n",
    "arr = np.reshape(arr,(-1,len(header)))\n",
    "\n",
    "#print(len(lines), arr.shape, arr.dtype, arr[0,1])"
   ]
  },
  {
   "cell_type": "code",
   "execution_count": 9,
   "id": "f16d2617-d7e6-4397-862c-5fe4a9ab2116",
   "metadata": {},
   "outputs": [],
   "source": [
    "#### this part is to plot the result\n",
    "\n",
    "## convert epoch time to human readable time\n",
    "#import datetime\n",
    "\n",
    "eptime = arr[:,1]\n",
    "\n",
    "## plot result\n",
    "import matplotlib.pyplot as plt\n",
    "import matplotlib.ticker as mtick\n",
    "%matplotlib qt5\n",
    "#%matplotlib inline\n",
    "\n",
    "#humantime = mdate.date2num(datetime.utcfromtimestamp(eptime)) \n",
    "\n",
    "fig,ax=plt.subplots()\n",
    "for i in range(2, len(header)):\n",
    "    ax.plot(eptime.astype('datetime64[s]'), arr[:,i],'o', label=header[i])\n",
    "\n",
    "# set proper timezone to display correct time. \n",
    "ax.xaxis_date(tz='US/Central')\n",
    "\n",
    "plt.xlabel('Time (sec)')\n",
    "plt.ylabel('Temperature(degC)')\n",
    "ax.legend()\n",
    "\n",
    "plt.show()\n",
    "\n"
   ]
  },
  {
   "cell_type": "code",
   "execution_count": 3,
   "id": "b0c88c09-9f3d-45d4-a1c2-0b911afd19e5",
   "metadata": {},
   "outputs": [],
   "source": [
    "# get list of datagroup\n",
    "address = \"https://ops.aps.anl.gov/cgi-bin/oagMonitorDataReview.cgi?ListDataGroups=1\"\n",
    "\n",
    "response = urllib.request.urlopen(address)\n",
    "#lines = [l.decode('utf-8') for l in response.readlines()]\n",
    "body = response.read()\n",
    "response.close()\n",
    "#print(body)"
   ]
  }
 ],
 "metadata": {
  "kernelspec": {
   "display_name": "Python 3 (ipykernel)",
   "language": "python",
   "name": "python3"
  },
  "language_info": {
   "codemirror_mode": {
    "name": "ipython",
    "version": 3
   },
   "file_extension": ".py",
   "mimetype": "text/x-python",
   "name": "python",
   "nbconvert_exporter": "python",
   "pygments_lexer": "ipython3",
   "version": "3.10.6"
  }
 },
 "nbformat": 4,
 "nbformat_minor": 5
}
